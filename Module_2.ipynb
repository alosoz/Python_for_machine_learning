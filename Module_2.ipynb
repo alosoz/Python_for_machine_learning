{
  "nbformat": 4,
  "nbformat_minor": 0,
  "metadata": {
    "colab": {
      "provenance": [],
      "authorship_tag": "ABX9TyP72tUJaIi+AsC3bMdw1ktr",
      "include_colab_link": true
    },
    "kernelspec": {
      "name": "python3",
      "display_name": "Python 3"
    },
    "language_info": {
      "name": "python"
    }
  },
  "cells": [
    {
      "cell_type": "markdown",
      "metadata": {
        "id": "view-in-github",
        "colab_type": "text"
      },
      "source": [
        "<a href=\"https://colab.research.google.com/github/alosoz/Python_for_machine_learning/blob/main/Module_2.ipynb\" target=\"_parent\"><img src=\"https://colab.research.google.com/assets/colab-badge.svg\" alt=\"Open In Colab\"/></a>"
      ]
    },
    {
      "cell_type": "markdown",
      "source": [
        "**Object-oriented programming**"
      ],
      "metadata": {
        "id": "F4Nd0z2e08JB"
      }
    },
    {
      "cell_type": "code",
      "source": [
        "listed = [1, 2, 3, 4, 5]\n",
        "listed"
      ],
      "metadata": {
        "colab": {
          "base_uri": "https://localhost:8080/"
        },
        "id": "lkIUs-KAspgW",
        "outputId": "3b175713-65d4-4e55-d5bd-ec2e86f09f9d"
      },
      "execution_count": null,
      "outputs": [
        {
          "output_type": "execute_result",
          "data": {
            "text/plain": [
              "[1, 2, 3, 4, 5]"
            ]
          },
          "metadata": {},
          "execution_count": 1
        }
      ]
    },
    {
      "cell_type": "code",
      "source": [
        "text = \"Hello I am an object\""
      ],
      "metadata": {
        "id": "5IjUTxRZ_qzB"
      },
      "execution_count": null,
      "outputs": []
    },
    {
      "cell_type": "code",
      "source": [
        "def summation(a, b):\n",
        "  return a + b\n",
        "\n",
        "print(type(summation))"
      ],
      "metadata": {
        "colab": {
          "base_uri": "https://localhost:8080/"
        },
        "id": "cyvEgRzf_5mY",
        "outputId": "83eeb57e-91cf-438d-9160-49f2ecd623a6"
      },
      "execution_count": null,
      "outputs": [
        {
          "output_type": "stream",
          "name": "stdout",
          "text": [
            "<class 'function'>\n"
          ]
        }
      ]
    },
    {
      "cell_type": "code",
      "source": [
        "class Person():\n",
        "  name = \"Joey\"\n",
        "  surname = \"Aniston\"\n",
        "  age = 23\n",
        "  gender = \"Male\""
      ],
      "metadata": {
        "id": "kN4jfelWCu9J"
      },
      "execution_count": null,
      "outputs": []
    },
    {
      "cell_type": "code",
      "source": [
        "person = Person()"
      ],
      "metadata": {
        "id": "Gor1txgLI1cX"
      },
      "execution_count": null,
      "outputs": []
    },
    {
      "cell_type": "code",
      "source": [
        "print(person.name)\n",
        "print(person.surname)\n",
        "print(person.age)\n",
        "print(person.gender)"
      ],
      "metadata": {
        "colab": {
          "base_uri": "https://localhost:8080/"
        },
        "id": "26fHbzZPJGtG",
        "outputId": "7e19107d-8940-4608-c11a-0c9d2c5cde70"
      },
      "execution_count": null,
      "outputs": [
        {
          "output_type": "stream",
          "name": "stdout",
          "text": [
            "Joey\n",
            "Aniston\n",
            "23\n",
            "Male\n"
          ]
        }
      ]
    },
    {
      "cell_type": "code",
      "source": [
        "class Person():\n",
        "  def __init__(self, name, surname, age, gender):\n",
        "    self.name = name\n",
        "    self.surname = surname\n",
        "    self.age = age\n",
        "    self.gender = gender"
      ],
      "metadata": {
        "id": "3jRexsAiQUso"
      },
      "execution_count": null,
      "outputs": []
    },
    {
      "cell_type": "code",
      "source": [
        "person2 = Person(\"Joey\", \"Aniston\", 23, \"male\")"
      ],
      "metadata": {
        "id": "xeoLe74pQrnY"
      },
      "execution_count": null,
      "outputs": []
    },
    {
      "cell_type": "code",
      "source": [
        "print(person2.name)\n",
        "print(person2.surname)\n",
        "print(person2.age)\n",
        "print(person2.gender)"
      ],
      "metadata": {
        "colab": {
          "base_uri": "https://localhost:8080/"
        },
        "id": "KxYHx--5ViCK",
        "outputId": "22f71b2a-3b6a-4bcd-c1e1-cc9d72f1d395"
      },
      "execution_count": null,
      "outputs": [
        {
          "output_type": "stream",
          "name": "stdout",
          "text": [
            "Joey\n",
            "Aniston\n",
            "23\n",
            "male\n"
          ]
        }
      ]
    },
    {
      "cell_type": "code",
      "source": [
        "type(list1) # list1 is actually a list object. "
      ],
      "metadata": {
        "colab": {
          "base_uri": "https://localhost:8080/"
        },
        "id": "KQNgOUeIeInL",
        "outputId": "d87ac91b-1e0d-42b6-d69d-0fec2edb4f4f"
      },
      "execution_count": null,
      "outputs": [
        {
          "output_type": "execute_result",
          "data": {
            "text/plain": [
              "list"
            ]
          },
          "metadata": {},
          "execution_count": 3
        }
      ]
    },
    {
      "cell_type": "code",
      "source": [
        "def summation(a, b):\n",
        "  return a + b\n",
        "\n",
        "type(summation) # the function is also a object in programming world"
      ],
      "metadata": {
        "colab": {
          "base_uri": "https://localhost:8080/"
        },
        "id": "0HW52SYGf3Hb",
        "outputId": "d5a55269-120a-4501-ccaa-5ad04a880404"
      },
      "execution_count": null,
      "outputs": [
        {
          "output_type": "execute_result",
          "data": {
            "text/plain": [
              "function"
            ]
          },
          "metadata": {},
          "execution_count": 61
        }
      ]
    },
    {
      "cell_type": "code",
      "source": [
        "class MyCompany():\n",
        "  company_name = \"Dark Blue\"\n",
        "  foundation_year = 2020\n",
        "  founder_name = \"John Doe\"\n",
        "  number_of_department = 5\n",
        "  sector = \"Healthcare\""
      ],
      "metadata": {
        "id": "CDBT4J2t5ZLs"
      },
      "execution_count": null,
      "outputs": []
    },
    {
      "cell_type": "code",
      "source": [
        "myObject = MyCompany()"
      ],
      "metadata": {
        "id": "6hT6ciz47suo"
      },
      "execution_count": null,
      "outputs": []
    },
    {
      "cell_type": "code",
      "source": [
        "print(myObject.company_name)\n",
        "print(myObject.foundation_year)\n",
        "print(myObject.founder_name)\n",
        "print(myObject.number_of_department)"
      ],
      "metadata": {
        "colab": {
          "base_uri": "https://localhost:8080/"
        },
        "id": "LUFr0-UJI8kN",
        "outputId": "d5d5e032-ab86-4338-8427-8d42d9604dfc"
      },
      "execution_count": null,
      "outputs": [
        {
          "output_type": "stream",
          "name": "stdout",
          "text": [
            "Dark Blue\n",
            "2020\n",
            "John Doe\n",
            "5\n"
          ]
        }
      ]
    },
    {
      "cell_type": "code",
      "source": [
        "class MyCompany():\n",
        "  def __init__(self, company_name, foundation_year, founder_name, number_of_department, sector):\n",
        "    self.company_name = company_name\n",
        "    self.foundation_year = foundation_year\n",
        "    self.founder_name = founder_name\n",
        "    self.number_of_deparment = number_of_department\n",
        "    self.sector = sector"
      ],
      "metadata": {
        "id": "UETx1IK4WP5x"
      },
      "execution_count": null,
      "outputs": []
    },
    {
      "cell_type": "code",
      "source": [
        "mycompany = MyCompany(\"Dark Blue\", 2020, \"John Doe\", 5, \"Healthcare\")\n",
        "print(mycompany.company_name)\n",
        "print(mycompany.foundation_year)\n",
        "print(mycompany.founder_name)\n",
        "print(mycompany.number_of_department)\n",
        "print(mycompany.sector)"
      ],
      "metadata": {
        "id": "K11V5qd9zNd_"
      },
      "execution_count": null,
      "outputs": []
    },
    {
      "cell_type": "code",
      "source": [
        "mycompany = MyCompany(\"Red White\", 2002, \"Michael Jackson \", 4, \"Banking\")\n",
        "print(mycompany.company_name)\n",
        "print(mycompany.foundation_year)\n",
        "print(mycompany.founder_name)\n",
        "print(mycompany.number_of_department)\n",
        "print(mycompany.sector)"
      ],
      "metadata": {
        "id": "WoYZBlMHRW2U"
      },
      "execution_count": null,
      "outputs": []
    },
    {
      "cell_type": "code",
      "source": [
        "print(car1.model)\n",
        "print(car1.color)\n",
        "print(car1.hp)\n",
        "print(car1.steamroller)"
      ],
      "metadata": {
        "colab": {
          "base_uri": "https://localhost:8080/"
        },
        "id": "6YXR3bLD7Kp4",
        "outputId": "4353b433-1003-4915-9c11-e0df94fe6719"
      },
      "execution_count": null,
      "outputs": [
        {
          "output_type": "stream",
          "name": "stdout",
          "text": [
            "Audi\n",
            "Green\n",
            "180\n",
            "4\n"
          ]
        }
      ]
    },
    {
      "cell_type": "code",
      "source": [
        "class Car():\n",
        "  brand = \"Mercedes\"\n",
        "  color = \"Blue\"\n",
        "  production_year = 2020\n",
        "  steamroller = 4"
      ],
      "metadata": {
        "id": "KApT-s-3_wOt"
      },
      "execution_count": null,
      "outputs": []
    },
    {
      "cell_type": "code",
      "source": [
        "class Car():\n",
        "  brand = \"Audi\"\n",
        "  color = \"Blue\"\n",
        "  production_year = 2020\n",
        "  steamroller = 4 "
      ],
      "metadata": {
        "id": "wrPt1HYQlBq8"
      },
      "execution_count": null,
      "outputs": []
    },
    {
      "cell_type": "code",
      "source": [
        "dir(car1) "
      ],
      "metadata": {
        "colab": {
          "base_uri": "https://localhost:8080/"
        },
        "id": "kVlOd-x4AJfl",
        "outputId": "59e87cf0-1b62-4cad-f29a-af797e02033e"
      },
      "execution_count": null,
      "outputs": [
        {
          "output_type": "execute_result",
          "data": {
            "text/plain": [
              "['__class__',\n",
              " '__delattr__',\n",
              " '__dict__',\n",
              " '__dir__',\n",
              " '__doc__',\n",
              " '__eq__',\n",
              " '__format__',\n",
              " '__ge__',\n",
              " '__getattribute__',\n",
              " '__gt__',\n",
              " '__hash__',\n",
              " '__init__',\n",
              " '__init_subclass__',\n",
              " '__le__',\n",
              " '__lt__',\n",
              " '__module__',\n",
              " '__ne__',\n",
              " '__new__',\n",
              " '__reduce__',\n",
              " '__reduce_ex__',\n",
              " '__repr__',\n",
              " '__setattr__',\n",
              " '__sizeof__',\n",
              " '__str__',\n",
              " '__subclasshook__',\n",
              " '__weakref__',\n",
              " 'color',\n",
              " 'hp',\n",
              " 'model',\n",
              " 'steamroller']"
            ]
          },
          "metadata": {},
          "execution_count": 67
        }
      ]
    },
    {
      "cell_type": "code",
      "source": [
        "class Car():\n",
        "  def __init__(self):\n",
        "    print(\"the function is working...\")"
      ],
      "metadata": {
        "id": "0kU50Nl49yNR"
      },
      "execution_count": null,
      "outputs": []
    },
    {
      "cell_type": "code",
      "source": [
        "car3 = Car() # as you see, the function is working automatically"
      ],
      "metadata": {
        "colab": {
          "base_uri": "https://localhost:8080/"
        },
        "id": "yA3bp-I3NEqj",
        "outputId": "9e03669a-df44-417d-f2d2-03ff46181958"
      },
      "execution_count": null,
      "outputs": [
        {
          "output_type": "stream",
          "name": "stdout",
          "text": [
            "the function is working...\n"
          ]
        }
      ]
    },
    {
      "cell_type": "code",
      "source": [
        "class Car():\n",
        "  def __init__(self, brand, color, production_year, steamroller):\n",
        "    self.brand = brand\n",
        "    self.color = color\n",
        "    self.production_year = production_year\n",
        "    self.steamroller = steamroller "
      ],
      "metadata": {
        "id": "jIHX52MDNOQ1"
      },
      "execution_count": null,
      "outputs": []
    },
    {
      "cell_type": "code",
      "source": [
        "car1 = Car(\"Audi\", \"Green\", 180, 4)"
      ],
      "metadata": {
        "colab": {
          "base_uri": "https://localhost:8080/"
        },
        "id": "WLqqnbn5N8q7",
        "outputId": "ce0b8465-34d1-491e-ac50-cba0f09e7573"
      },
      "execution_count": null,
      "outputs": [
        {
          "output_type": "stream",
          "name": "stdout",
          "text": [
            "the function is working and the attributes has been created.\n"
          ]
        }
      ]
    },
    {
      "cell_type": "code",
      "source": [
        "print(car1.model)\n",
        "print(car1.color)\n",
        "print(car1.hp)\n",
        "print(car1.steamroller)"
      ],
      "metadata": {
        "colab": {
          "base_uri": "https://localhost:8080/"
        },
        "id": "SYPF2DgQOhPN",
        "outputId": "0108ea58-f6a9-41bb-8c8e-4a0d1da446c2"
      },
      "execution_count": null,
      "outputs": [
        {
          "output_type": "stream",
          "name": "stdout",
          "text": [
            "Audi\n",
            "Green\n",
            "180\n",
            "4\n"
          ]
        }
      ]
    },
    {
      "cell_type": "code",
      "source": [
        "car2 = Car(\"Opel\", \"Red\", 120, 4)"
      ],
      "metadata": {
        "colab": {
          "base_uri": "https://localhost:8080/"
        },
        "id": "RAEYV0RvOo7o",
        "outputId": "b9867df4-8cb7-4a94-d865-a5bb9f5ddead"
      },
      "execution_count": null,
      "outputs": [
        {
          "output_type": "stream",
          "name": "stdout",
          "text": [
            "the function is working and the attributes has been created.\n"
          ]
        }
      ]
    },
    {
      "cell_type": "code",
      "source": [
        "print(car2.model)\n",
        "print(car2.color)\n",
        "print(car2.hp)\n",
        "print(car2.steamroller)"
      ],
      "metadata": {
        "colab": {
          "base_uri": "https://localhost:8080/"
        },
        "id": "kKvDkkpbOw40",
        "outputId": "ff88c8e8-34c6-4f0f-cb55-4110a4a66fbf"
      },
      "execution_count": null,
      "outputs": [
        {
          "output_type": "stream",
          "name": "stdout",
          "text": [
            "Opel\n",
            "Red\n",
            "120\n",
            "4\n"
          ]
        }
      ]
    },
    {
      "cell_type": "markdown",
      "source": [
        "# Methodlar\n",
        "\n",
        "Bu classın sahibi olduğu özellikleri oluşturmak istiyoruz. "
      ],
      "metadata": {
        "id": "7lgb4s5X-0Zg"
      }
    },
    {
      "cell_type": "code",
      "source": [
        "class Employee():\n",
        "  def __init__(self, name, surname, age, salary, title):\n",
        "    self.name = name\n",
        "    self.surname = surname\n",
        "    self.age = age\n",
        "    self.salary = salary\n",
        "    self.title = title\n",
        "  \n",
        "  def get_information(self):\n",
        "    print(\"\"\"\n",
        "    Name: {}\n",
        "    Surname: {}\n",
        "    Age: {}\n",
        "    Salary: {}\n",
        "    Title: {}\n",
        "    \"\"\".format(self.name, self.surname, self.age, self.salary, self.title))\n",
        "  \n",
        "  def change_title(self, title):\n",
        "    self.title = title\n",
        "    print(\"The new title is {}\".format(self.title))\n",
        "\n",
        "  def increase_salary(self, increase_rate):\n",
        "    self.salary += self.salary * increase_rate\n",
        "    print(\"The new salary is {}\".format(self.salary))"
      ],
      "metadata": {
        "id": "Myajw6_h-qpF"
      },
      "execution_count": null,
      "outputs": []
    },
    {
      "cell_type": "code",
      "source": [
        "employee = Employee('John', 'Doe', 27, 3000, 'Finance Spealist')\n",
        "employee.get_information()"
      ],
      "metadata": {
        "colab": {
          "base_uri": "https://localhost:8080/"
        },
        "id": "CTrtZpYG_qSN",
        "outputId": "b05e5dde-550d-45db-c423-16204e932a95"
      },
      "execution_count": null,
      "outputs": [
        {
          "output_type": "stream",
          "name": "stdout",
          "text": [
            "\n",
            "    Name: John\n",
            "    Surname: Doe\n",
            "    Age: 27\n",
            "    Salary: 3000\n",
            "    Title: Finance Spealist\n",
            "    \n"
          ]
        }
      ]
    },
    {
      "cell_type": "code",
      "source": [
        "employee.change_title('Finance Expert')\n",
        "employee.increase_salary(0.4)\n",
        "employee.get_information()"
      ],
      "metadata": {
        "colab": {
          "base_uri": "https://localhost:8080/"
        },
        "id": "rAnUCrdhD8t7",
        "outputId": "c6669364-1853-47e2-bb9e-da8d224bf021"
      },
      "execution_count": null,
      "outputs": [
        {
          "output_type": "stream",
          "name": "stdout",
          "text": [
            "The new title is Finance Expert\n",
            "The new salary is 4200.0\n",
            "\n",
            "    Name: John\n",
            "    Surname: Doe\n",
            "    Age: 27\n",
            "    Salary: 4200.0\n",
            "    Title: Finance Expert\n",
            "    \n"
          ]
        }
      ]
    },
    {
      "cell_type": "markdown",
      "source": [
        "# Inheritance"
      ],
      "metadata": {
        "id": "pZ8aSnzVFBQ5"
      }
    },
    {
      "cell_type": "code",
      "source": [
        "class Manager(Employee):\n",
        "  pass"
      ],
      "metadata": {
        "id": "l2z5WJ2CFDgv"
      },
      "execution_count": null,
      "outputs": []
    },
    {
      "cell_type": "code",
      "source": [
        "manager = Manager(\"Jack\",\"Denver\", 34, 5000, 'CEO')\n",
        "manager.get_information()"
      ],
      "metadata": {
        "colab": {
          "base_uri": "https://localhost:8080/"
        },
        "id": "B62mqRehK7ny",
        "outputId": "1f53318a-b218-4d1a-e33e-f41313447663"
      },
      "execution_count": null,
      "outputs": [
        {
          "output_type": "stream",
          "name": "stdout",
          "text": [
            "\n",
            "    Name: Jack\n",
            "    Surname: Denver\n",
            "    Age: 34\n",
            "    Salary: 5000\n",
            "    Title: CEO\n",
            "    \n"
          ]
        }
      ]
    },
    {
      "cell_type": "code",
      "source": [
        "dir(manager)"
      ],
      "metadata": {
        "colab": {
          "base_uri": "https://localhost:8080/"
        },
        "id": "dPIOV9UcLevI",
        "outputId": "1889cfc7-b1b7-4359-8243-522928025de5"
      },
      "execution_count": null,
      "outputs": [
        {
          "output_type": "execute_result",
          "data": {
            "text/plain": [
              "['__class__',\n",
              " '__delattr__',\n",
              " '__dict__',\n",
              " '__dir__',\n",
              " '__doc__',\n",
              " '__eq__',\n",
              " '__format__',\n",
              " '__ge__',\n",
              " '__getattribute__',\n",
              " '__gt__',\n",
              " '__hash__',\n",
              " '__init__',\n",
              " '__init_subclass__',\n",
              " '__le__',\n",
              " '__lt__',\n",
              " '__module__',\n",
              " '__ne__',\n",
              " '__new__',\n",
              " '__reduce__',\n",
              " '__reduce_ex__',\n",
              " '__repr__',\n",
              " '__setattr__',\n",
              " '__sizeof__',\n",
              " '__str__',\n",
              " '__subclasshook__',\n",
              " '__weakref__',\n",
              " 'age',\n",
              " 'change_title',\n",
              " 'get_information',\n",
              " 'increase_salary',\n",
              " 'name',\n",
              " 'salary',\n",
              " 'surname',\n",
              " 'title']"
            ]
          },
          "metadata": {},
          "execution_count": 82
        }
      ]
    },
    {
      "cell_type": "code",
      "source": [
        "class Manager(Employee):\n",
        "  def increase_salary_for_manager(self, ratio):\n",
        "    self.salary += self.salary * ratio"
      ],
      "metadata": {
        "id": "4aCAxlhaLi2t"
      },
      "execution_count": null,
      "outputs": []
    },
    {
      "cell_type": "code",
      "source": [
        "manager = Manager(\"Sacha\", \"Kearney\", 34, 7000, \"Finance Team Lead\")\n",
        "manager.increase_salary_for_manager(0.3)\n",
        "manager.get_information()"
      ],
      "metadata": {
        "colab": {
          "base_uri": "https://localhost:8080/"
        },
        "id": "IKPwvRiNMsak",
        "outputId": "162dea89-1421-4082-a3b5-1d51c818b8aa"
      },
      "execution_count": null,
      "outputs": [
        {
          "output_type": "stream",
          "name": "stdout",
          "text": [
            "\n",
            "    Name: Sacha\n",
            "    Surname: Kearney\n",
            "    Age: 34\n",
            "    Salary: 9100.0\n",
            "    Languages: ['English', 'Spanish', 'Portuguese']\n",
            "    Title: Finance Team Lead\n",
            "    \n"
          ]
        }
      ]
    },
    {
      "cell_type": "code",
      "source": [
        "class Manager(Employee):\n",
        "  def __init__(self, name, surname, age, title, salary, languages):\n",
        "    self.name = name \n",
        "    self.surname = surname\n",
        "    self.age = age\n",
        "    self.title = title\n",
        "    self.salary = salary\n",
        "    self.languages = languages"
      ],
      "metadata": {
        "id": "I3q_x6nKPDU7"
      },
      "execution_count": null,
      "outputs": []
    },
    {
      "cell_type": "code",
      "source": [
        "class Manager(Employee):\n",
        "  def __init__(self, name, surname, age, title, salary, languages):\n",
        "    self.name = name \n",
        "    self.surname = surname\n",
        "    self.age = age\n",
        "    self.title = title\n",
        "    self.salary = salary\n",
        "    self.languages = languages\n",
        "\n",
        "  def get_information(self):\n",
        "    print(\"\"\"\n",
        "    Name: {}\n",
        "    Surname: {}\n",
        "    Age: {}\n",
        "    Salary: {}\n",
        "    Title: {}\n",
        "    Languages: {}\n",
        "    \"\"\".format(self.name, self.surname, self.age, self.salary, self.title, self.languages))"
      ],
      "metadata": {
        "id": "lrFMhuXMQ2ow"
      },
      "execution_count": null,
      "outputs": []
    },
    {
      "cell_type": "code",
      "source": [
        "manager = Manager(\"Sacha\", \"Kearney\", 34, 7000, \"Finance Team Lead\")\n",
        "manager.get_information()"
      ],
      "metadata": {
        "colab": {
          "base_uri": "https://localhost:8080/",
          "height": 182
        },
        "id": "bDoz5LlORCP-",
        "outputId": "362784a4-0af7-48db-a920-c68d648c761c"
      },
      "execution_count": null,
      "outputs": [
        {
          "output_type": "error",
          "ename": "TypeError",
          "evalue": "ignored",
          "traceback": [
            "\u001b[0;31m---------------------------------------------------------------------------\u001b[0m",
            "\u001b[0;31mTypeError\u001b[0m                                 Traceback (most recent call last)",
            "\u001b[0;32m<ipython-input-52-149ac87492dd>\u001b[0m in \u001b[0;36m<module>\u001b[0;34m()\u001b[0m\n\u001b[0;32m----> 1\u001b[0;31m \u001b[0mmanager\u001b[0m \u001b[0;34m=\u001b[0m \u001b[0mManager\u001b[0m\u001b[0;34m(\u001b[0m\u001b[0;34m\"Sacha\"\u001b[0m\u001b[0;34m,\u001b[0m \u001b[0;34m\"Kearney\"\u001b[0m\u001b[0;34m,\u001b[0m \u001b[0;36m34\u001b[0m\u001b[0;34m,\u001b[0m \u001b[0;36m7000\u001b[0m\u001b[0;34m,\u001b[0m \u001b[0;34m\"Finance Team Lead\"\u001b[0m\u001b[0;34m)\u001b[0m\u001b[0;34m\u001b[0m\u001b[0;34m\u001b[0m\u001b[0m\n\u001b[0m\u001b[1;32m      2\u001b[0m \u001b[0mmanager\u001b[0m\u001b[0;34m.\u001b[0m\u001b[0mget_information\u001b[0m\u001b[0;34m(\u001b[0m\u001b[0;34m)\u001b[0m\u001b[0;34m\u001b[0m\u001b[0;34m\u001b[0m\u001b[0m\n",
            "\u001b[0;31mTypeError\u001b[0m: __init__() missing 1 required positional argument: 'languages'"
          ]
        }
      ]
    },
    {
      "cell_type": "code",
      "source": [
        "manager = Manager(\"Sacha\", \"Kearney\", 34, 7000, \"Finance Team Lead\", ['English','Portuguese', 'Spanish'])\n",
        "manager.get_information()"
      ],
      "metadata": {
        "colab": {
          "base_uri": "https://localhost:8080/"
        },
        "id": "k09e6jHWRfMo",
        "outputId": "ef5041a6-4917-471c-981a-c7d4b0739597"
      },
      "execution_count": null,
      "outputs": [
        {
          "output_type": "stream",
          "name": "stdout",
          "text": [
            "\n",
            "    Name: Sacha\n",
            "    Surname: Kearney\n",
            "    Age: 34\n",
            "    Salary: Finance Team Lead\n",
            "    Title: 7000\n",
            "    Languages: ['English', 'Portuguese', 'Spanish']\n",
            "    \n"
          ]
        }
      ]
    },
    {
      "cell_type": "markdown",
      "source": [
        "# \"Super\""
      ],
      "metadata": {
        "id": "OmfrxgP7S0NQ"
      }
    },
    {
      "cell_type": "code",
      "source": [
        "class Employee():\n",
        "  def __init__(self, name, surname, age, salary, title):\n",
        "    self.name = name\n",
        "    self.surname = surname\n",
        "    self.age = age\n",
        "    self.salary = salary\n",
        "    self.title = title"
      ],
      "metadata": {
        "id": "1MNtmo5mTe_S"
      },
      "execution_count": null,
      "outputs": []
    },
    {
      "cell_type": "code",
      "source": [
        "class Manager(Employee):\n",
        "  def __init__(self, name, surname, age, title, salary, languages):\n",
        "    self.name = name \n",
        "    self.surname = surname\n",
        "    self.age = age\n",
        "    self.title = title\n",
        "    self.salary = salary\n",
        "    self.languages = languages"
      ],
      "metadata": {
        "id": "Je3YBg2FTFoY"
      },
      "execution_count": null,
      "outputs": []
    },
    {
      "cell_type": "code",
      "source": [
        "class Manager(Employee):\n",
        "  def __init__(self, name, surname, age, title, salary, languages):\n",
        "    super().__init__(name, surname, age, title, salary)\n",
        "    self.languages = languages"
      ],
      "metadata": {
        "id": "adHW0mTTT5el"
      },
      "execution_count": null,
      "outputs": []
    },
    {
      "cell_type": "code",
      "source": [
        "manager = Manager(\"Sacha\", \"Kearney\", 34, 7000, \"Finance Team Lead\", ['English','Portuguese', 'Spanish'])\n",
        "manager.get_information()"
      ],
      "metadata": {
        "colab": {
          "base_uri": "https://localhost:8080/"
        },
        "id": "SD7CC_DZUQyW",
        "outputId": "03c80234-6491-4c5c-df58-9d811a7e8421"
      },
      "execution_count": null,
      "outputs": [
        {
          "output_type": "stream",
          "name": "stdout",
          "text": [
            "\n",
            "    Name: Sacha\n",
            "    Surname: Kearney\n",
            "    Age: 34\n",
            "    Salary: Finance Team Lead\n",
            "    Title: 7000\n",
            "    Languages: ['English', 'Portuguese', 'Spanish']\n",
            "    \n"
          ]
        }
      ]
    },
    {
      "cell_type": "markdown",
      "source": [
        "# Special Methods\n",
        "Special methods are a set of predefined methods in Python that you can use to enhance your classes. Because they begin and conclude with double underscores, such as __init__ or __str__, they are easily identifiable.\n",
        "\n",
        "Pythoneer used the term \"dunder methods\" as a short form of \"double under,\" as saying under-under-method-under-under grew monotonous.\n",
        "\n",
        "\n",
        "\n",
        "In Python, these \"dunders\" or \"special methods\" are sometimes known as \"magic methods.\" However, adopting this phrase can make things appear more sophisticated than they are—at the end of the day, they aren't \"magical.\" These methods should be treated as if they were a standard language feature.\n",
        "\n",
        "What kind of special methods we have? For Example;\n",
        "* __init__\n",
        "* __str__\n",
        "* __len__"
      ],
      "metadata": {
        "id": "gcYY3Z1GXbHi"
      }
    },
    {
      "cell_type": "code",
      "source": [
        "class Animal():\n",
        "  def __init__(self, name, age, number_of_feet):\n",
        "    self.name = name\n",
        "    self.age = age\n",
        "    self.number_of_feet = number_of_feet\n",
        "\n",
        "  def __str__(self):\n",
        "    return \"Name: {}\\nAge: {}\\nNumber of Feet: {}\".format(self.name, self.age, self.number_of_feet)\n",
        "\n",
        "  def __len__(self):\n",
        "    return len(self.name)"
      ],
      "metadata": {
        "id": "44hajdxAXfI4"
      },
      "execution_count": null,
      "outputs": []
    },
    {
      "cell_type": "code",
      "source": [
        "lion = Animal('Lion', 4, 4)\n",
        "print(lion)"
      ],
      "metadata": {
        "colab": {
          "base_uri": "https://localhost:8080/"
        },
        "id": "d9ipIRXjckxn",
        "outputId": "683bf709-5e2f-4c41-90ab-2ce369067a1a"
      },
      "execution_count": null,
      "outputs": [
        {
          "output_type": "stream",
          "name": "stdout",
          "text": [
            "Name: Lion\n",
            "Age: 4\n",
            "Number of Feet: 4\n"
          ]
        }
      ]
    },
    {
      "cell_type": "code",
      "source": [
        "len(lion)"
      ],
      "metadata": {
        "colab": {
          "base_uri": "https://localhost:8080/"
        },
        "id": "49nghuluhCj1",
        "outputId": "94107565-ad1a-439f-cf8e-35c636b1232c"
      },
      "execution_count": null,
      "outputs": [
        {
          "output_type": "execute_result",
          "data": {
            "text/plain": [
              "4"
            ]
          },
          "metadata": {},
          "execution_count": 196
        }
      ]
    },
    {
      "cell_type": "code",
      "source": [
        "listed = [1, 2, 3, 4, 5]\n"
      ],
      "metadata": {
        "id": "Bi1z83UyIqSn"
      },
      "execution_count": null,
      "outputs": []
    },
    {
      "cell_type": "code",
      "source": [
        "str"
      ],
      "metadata": {
        "id": "M5nffwLLM2a7"
      },
      "execution_count": null,
      "outputs": []
    },
    {
      "cell_type": "markdown",
      "source": [
        "##**Guided_project_2**"
      ],
      "metadata": {
        "id": "A6g6xcHO1E_d"
      }
    },
    {
      "cell_type": "code",
      "source": [],
      "metadata": {
        "id": "uZK-4feWKqb_"
      },
      "execution_count": null,
      "outputs": []
    },
    {
      "cell_type": "markdown",
      "source": [
        "#Chapter 2\n",
        "##Object-oriented programming\n",
        "\n",
        "Your department receives a request to prepare a test software to digitalize the health insurance, logistics, and trading companies that can be expanded in the future.\n",
        "\n",
        "You come up with an idea: object-oriented programming. Your approach is to create classes for each company that will have different attributes and methods to digitalize some of their functions.   \n"
      ],
      "metadata": {
        "id": "L2QxMyW_Qs36"
      }
    },
    {
      "cell_type": "markdown",
      "source": [
        "### Health insurance\n",
        "#### Define the class\n",
        "You start with the health insurance company. \n",
        "\n",
        "You need to create a system for the supplemental health insurance registration process by taking different variables like age, chronic disease, and income into account. \n",
        "\n",
        "📌 Use the keyword \"class\" to create the class \"HealthInsurance\" \n",
        "\n",
        "📌 Use the \"__init__\" method to initialze the object's attributes: self, company_name, foundation_year, founder_name,  company_slogan, num_of_employees and num_of_clients.\n"
      ],
      "metadata": {
        "id": "wNu3jDRBTbcE"
      }
    },
    {
      "cell_type": "markdown",
      "source": [
        "#### Define the methods\n",
        "\n",
        "Next, define the methods of the class:\n",
        "\n",
        "1. print_report method: A method to print out information about the company. \n",
        "\n",
        "  📌 The report should have this structure: \n",
        "\n",
        "  \"The company *name*, was founded in *year*. The founder of the company is *founder_name*. \n",
        "\n",
        "  Company slogan: *company_slogan*\n",
        "\n",
        "  Number of employees: *number of employees*\n",
        "\n",
        "  Number of clients: *number of clients*\"\n",
        "\n",
        "2. sup_health_insurance method: A method to check the eligibility for supplemental health insurance. It should consider the parameters \"age\", \"chronic_disease\", and \"income\".\n",
        "\n",
        "  📌 Use if-else statements and logical operators.\n",
        "\n",
        "3. update_num_clients method: A method to update the attribute number of clients."
      ],
      "metadata": {
        "id": "jEV9hh49JxGt"
      }
    },
    {
      "cell_type": "code",
      "execution_count": null,
      "metadata": {
        "id": "jXBwGqV2OkvB"
      },
      "outputs": [],
      "source": [
        "#Define the \"HealthInsurance\" class\n",
        "class HealthInsurance:\n",
        "\n",
        "    #Initialize the object's attributes\n",
        "    def __init__(self, company_name, foundation_year, founder_name, company_slogan, num_of_employees, num_of_clients):\n",
        "      self.company_name = company_name\n",
        "      self.foundation_year = foundation_year\n",
        "      self.founder_name = founder_name\n",
        "      self.company_slogan = company_slogan\n",
        "      self.num_of_employees = num_of_employees\n",
        "      self.num_of_clients = num_of_clients\n",
        "\n",
        "\n",
        "    #Define the print_report method\n",
        "    def print_report(self):\n",
        "      print(f\"\"\"The company {self.company_name} was founded in {self.foundation_year}.\n",
        "      The founder of the cmpany is {self.founder_name}.\n",
        "      Company slogan: {self.company_slogan}\n",
        "      Number of employees: {self.num_of_employees}\n",
        "      Number of clients: {self.num_of_clients}\"\"\")\n",
        "\n",
        "    #Define the sup_health_insurance method\n",
        "    def sup_health_insurance(self, age, chronic_disease, income):\n",
        "\n",
        "      #if-else statements to check whether person can get supplemental insurance or not\n",
        "      if age >= 60 and chronic_disease == True and income < 6000:\n",
        "        print(\"We are sorry! You are not eligible for supplemantal health insurance.\")\n",
        "      elif age < 60 and income >= 6000 or chronic_disease == False:\n",
        "        print(\"Congradulations! You can get supplemental health insurance.\")\n",
        "\n",
        "\n",
        "    #Define the update_num_clients method\n",
        "    def update_num_clients(self, new_number):\n",
        "      self.num_of_clients = new_number\n",
        "      print(f\"Number of clients has been changed to {self.num_of_clients}!\")\n"
      ]
    },
    {
      "cell_type": "markdown",
      "source": [
        "#### Create the object \n",
        "Now that we created our class and initialized its attributes and methods, we can create the object “HI_company1” with the attributes: \n",
        "\n",
        "* Company_name “Healthy”\n",
        "\n",
        "* foundation_year “2012”\n",
        "\n",
        "* founder_name “Bob Mayer”\n",
        "\n",
        "* company_slogan “We care for you.” \n",
        "\n",
        "* num_of_employees “3500”\n",
        "\n",
        "* num_of_clients “13230”\n"
      ],
      "metadata": {
        "id": "4uxjmN3vGCFJ"
      }
    },
    {
      "cell_type": "code",
      "source": [
        "#Create the object \"HI_company1\" with it's attributes\n",
        "HI_company1 = HealthInsurance('Healthy', 2012, 'Bob Mayer', 'We care for you.', 3500, 13230)"
      ],
      "metadata": {
        "id": "MBeiD4dlatPD"
      },
      "execution_count": null,
      "outputs": []
    },
    {
      "cell_type": "markdown",
      "source": [
        "#### Let’s check if the methods work.\n",
        "\n",
        "There is a new customer that wants to register for supplemental health insurance. He is 45 years old, does not have a chronic disease, and has an income of 5000 dollars per month.\n",
        "\n",
        "📌 Use the sup_health_insurance method with this information. "
      ],
      "metadata": {
        "id": "V0larkhtGNjQ"
      }
    },
    {
      "cell_type": "code",
      "source": [
        "#Use the sup_health_insurance for the new customer\n",
        "HI_company1.sup_health_insurance(45, False, 8000)"
      ],
      "metadata": {
        "id": "T9SibjcjwP1b",
        "colab": {
          "base_uri": "https://localhost:8080/"
        },
        "outputId": "7470fa06-ef78-4734-8ee8-e8e6d0b7c7c9"
      },
      "execution_count": null,
      "outputs": [
        {
          "output_type": "stream",
          "name": "stdout",
          "text": [
            "Congradulations! You can get supplemental health insurance.\n"
          ]
        }
      ]
    },
    {
      "cell_type": "markdown",
      "source": [
        "Because the number of clients has increased, you should use the update_num_clients method. \n",
        "\n",
        "📌 The new_number will be 13231."
      ],
      "metadata": {
        "id": "FiFb7hhnCSql"
      }
    },
    {
      "cell_type": "code",
      "source": [
        "#Update the number of clients\n",
        "HI_company1.update_num_clients(13231)"
      ],
      "metadata": {
        "id": "FMto8ZjLa5rC",
        "colab": {
          "base_uri": "https://localhost:8080/"
        },
        "outputId": "757b3dfb-9465-4510-a86d-b64a75bdec78"
      },
      "execution_count": null,
      "outputs": [
        {
          "output_type": "stream",
          "name": "stdout",
          "text": [
            "Number of clients has been changed to 13231!\n"
          ]
        }
      ]
    },
    {
      "cell_type": "markdown",
      "source": [
        "To see the output of the latest update and check whether it worked or not, call the print_report method."
      ],
      "metadata": {
        "id": "4AcSJLsoH7kq"
      }
    },
    {
      "cell_type": "code",
      "source": [
        "#Call the print_report method for HI_company1\n",
        "HI_company1.print_report()"
      ],
      "metadata": {
        "id": "IrSkauee4Qkt",
        "colab": {
          "base_uri": "https://localhost:8080/"
        },
        "outputId": "8ba1ec9c-0e18-4422-f74d-ffdc84b50b61"
      },
      "execution_count": null,
      "outputs": [
        {
          "output_type": "stream",
          "name": "stdout",
          "text": [
            "The company Healthy was founded in 2012.\n",
            "      The founder of the cmpany is Bob Mayer.\n",
            "      Company slogan: We care for you.\n",
            "      Number of employees: 3500\n",
            "      Number of clients: 13231\n"
          ]
        }
      ]
    },
    {
      "cell_type": "markdown",
      "source": [
        "### Logistic\n",
        "Let's continue with the next company from your brief.\n",
        "\n",
        "Storage plays a crucial part in logistics, and the company wants to track the status of inventory space with software and be able to make changes in the system whenever it is needed.\n",
        "\n",
        "Again, you need to create a class.\n",
        "\n",
        "📌 Use the keyword \"class\" to create the class \"Logistics\" \n",
        "\n",
        "📌 Use the \"__init__\" method to initialze the object's attributes: self, company_name, foundation_year, founder_name,  company_slogan, and inventory_space."
      ],
      "metadata": {
        "id": "EX3NFIF-baj3"
      }
    },
    {
      "cell_type": "markdown",
      "source": [
        "#### Define the methods\n",
        "\n",
        "Next, define the methods of the class:\n",
        "\n",
        "1. print_report method: A method to print out information about the company. \n",
        "\n",
        "  📌 The report should have this structure: \n",
        "\n",
        "  \"The company *name*, was founded in *year*. The founder of the company is *founder_name*. \n",
        "\n",
        "  Company slogan: *company_slogan*\n",
        "\n",
        "  Inventory space of the company: *inventory_space*\n",
        "\n",
        "\n",
        "2. update_inventory_space method: A method to update its inventory_space, and print a statement to describe the change.\n",
        "It should consider the parameter \"new_storage_space\".\n"
      ],
      "metadata": {
        "id": "nPfZUASS4BMg"
      }
    },
    {
      "cell_type": "code",
      "source": [
        "#Define the \"Logistics\" class\n",
        "class Logistics:\n",
        "\n",
        "    #Initialize the object's attributes \n",
        "  def __init__(self, company_name, foundation_year, founder_name, company_slogan, inventory_space):\n",
        "    self.company_name = company_name\n",
        "    self.foundation_year = foundation_year\n",
        "    self.founder_name = founder_name\n",
        "    self. company_slogan = company_slogan\n",
        "    self.inventory_space = inventory_space\n",
        "        \n",
        "    #Define the print_report method\n",
        "  def print_report(self):\n",
        "    print(f\"\"\"\n",
        "    The company name is {self.company_name} and was founded in {self.foundation_year}.\n",
        "    Then founder of the company is {self.founder_name}.\n",
        "    Company slogan: {self.company_slogan}\n",
        "    Inventory space of the company: {self.inventory_space}\"\"\")\n",
        "\n",
        "    #Define the update_inventory_space method\n",
        "  def update_inventory_space(self, new_storage_space):\n",
        "    self.inventory_space = new_storage_space\n",
        "    print(f\"Inventory space has been changed to {self.inventory_space}\")\n",
        "\n",
        "\n"
      ],
      "metadata": {
        "id": "fq1787jDa_BI"
      },
      "execution_count": null,
      "outputs": []
    },
    {
      "cell_type": "markdown",
      "source": [
        "#### Create the object \n",
        "Now that we created our class and initialized its attributes and methods, we can create the object “logistic_company1” with the attributes: \n",
        "\n",
        "* Company_name “LogCom”\n",
        "\n",
        "* foundation_year “1990”\n",
        "\n",
        "* founder_name “Laura McCartey”\n",
        "\n",
        "* company_slogan “There is no place we cannot reach.” \n",
        "\n",
        "* inventory_space “2500”\n"
      ],
      "metadata": {
        "id": "AJOdGm82DJsy"
      }
    },
    {
      "cell_type": "code",
      "source": [
        "#Create the object \"logistic_company1\" with it's attributes\n",
        "logistic_company1 = Logistics('LogCom', 1990, 'Laura McCartey', 'There is no place we cannot reach', 2500)"
      ],
      "metadata": {
        "id": "jZpgNxEU25R9"
      },
      "execution_count": null,
      "outputs": []
    },
    {
      "cell_type": "markdown",
      "source": [
        "\n",
        "#### Let’s check if the methods work.\n",
        "The logistics company plans to buy a new warehouse which will increase the inventory_space to 3000. \n",
        "\n",
        "📌 Call the update_inventory_space method to reflect this change in the system and then use the “print_report” method."
      ],
      "metadata": {
        "id": "g3Auswd8EMeE"
      }
    },
    {
      "cell_type": "code",
      "source": [
        "#Update the inventory space\n",
        "logistic_company1.update_inventory_space(4500)\n",
        "#Call the print_report method for logistic_company1\n",
        "logistic_company1.print_report()"
      ],
      "metadata": {
        "id": "Kcxcr1MS3TLB",
        "colab": {
          "base_uri": "https://localhost:8080/"
        },
        "outputId": "e13e01f4-3c3e-4429-ecfc-39dd102767e8"
      },
      "execution_count": null,
      "outputs": [
        {
          "output_type": "stream",
          "name": "stdout",
          "text": [
            "Inventory space has been changed to 4500\n",
            "\n",
            "    The company name is LogCom and was founded in 1990.\n",
            "    Then founder of the company is Laura McCartey.\n",
            "    Company slogan: There is no place we cannot reach\n",
            "    Inventory space of the company: 4500\n"
          ]
        }
      ]
    },
    {
      "cell_type": "markdown",
      "source": [
        "### Trading\n",
        "The last company you need to digitalize is the trading one.\n",
        "\n",
        "You are expected to create a method to update the sales and expenses and calculate the revenue.\n",
        "\n",
        "As with the previous companies, you need to create a class.\n",
        "\n",
        "📌 Use the keyword \"class\" to create the class \"Trading\" \n",
        "\n",
        "📌 Use the \"__init__\" method to initialze the object's attributes: self, company_name, foundation_year, founder_name,  company_slogan, sales, expenses, and revenue.\n",
        "\n"
      ],
      "metadata": {
        "id": "CF-bba0xeH_G"
      }
    },
    {
      "cell_type": "markdown",
      "source": [
        "#### Define the methods\n",
        "\n",
        "Next, define the methods of the class:\n",
        "\n",
        "1. print_report method: A method to print out information about the company. \n",
        "\n",
        "  📌 The report should have this structure: \n",
        "\n",
        "  \"The company *name*, was founded in *year*. The founder of the company is *founder_name*. \n",
        "\n",
        "  Company slogan: *company_slogan*\n",
        "\n",
        "  Total sales: *sales*\n",
        "\n",
        "  Total expenses: *expenses*\n",
        "\n",
        "  Total revenue: *revenue*\n",
        "\n",
        "\n",
        "2. update_sales_and_expenses method: A method to update the sales and expenses.\n",
        "It should consider the parameters \"new_sales\" and \"new_expenses\".\n",
        "\n",
        "3. calculate_revenue method: A method  which computes the difference between sales and expenses and prints out the revenue."
      ],
      "metadata": {
        "id": "KSp_pa-08F69"
      }
    },
    {
      "cell_type": "code",
      "source": [
        "#Define the \"Trading\" class\n",
        "class Trading:\n",
        "    #Initialize the object's attributes \n",
        "    def __init__(self, company_name, foundation_year, founder_name, company_slogan, sales, expenses, revenue):\n",
        "      self.company_name = company_name\n",
        "      self.foundation_year = foundation_year\n",
        "      self.founder_name = founder_name\n",
        "      self.company_slogan = company_slogan\n",
        "      self.sales = sales\n",
        "      self.expenses = expenses\n",
        "      self.revenue = revenue\n",
        "\n",
        "    #Define the print_report method\n",
        "    def print_report(self):\n",
        "      print(f\"\"\"\n",
        "      The company name is {self.company_name} and was founded in {self.foundation_year}.\n",
        "      Then founder of the company is {self.founder_name}.\n",
        "      Company slogan: {self.company_slogan}\n",
        "      Total sales: {self.sales}\n",
        "      Total expenses: {self.expenses}\n",
        "      Total revenue: {self.revenue}\n",
        "      \"\"\")\n",
        "\n",
        "    #Define the update_sales_and_expenses method\n",
        "    def update_sales_and_expenses(self, new_sales, new_expenses):\n",
        "      self.sales += new_sales\n",
        "      self.expenses += new_expenses\n",
        "      print('Sales and expenses are updated')\n",
        "      \n",
        "\n",
        "    #Define the calculate_revenue method\n",
        "    def calculate_revenue(self):\n",
        "      self.revenue = self.sales - self.expenses\n",
        "      print(f\"The revenue of the company is: {self.revenue}\")\n",
        "\n"
      ],
      "metadata": {
        "id": "SGQJ507gd-m1"
      },
      "execution_count": null,
      "outputs": []
    },
    {
      "cell_type": "markdown",
      "source": [
        "#### Create the object \n",
        "Now that we created our class and initialized its attributes and methods, we can create the object “trading_company1” with the attributes: \n",
        "\n",
        "* Company_name “TraCom”\n",
        "\n",
        "* foundation_year “2005”\n",
        "\n",
        "* founder_name “Chong Wu”\n",
        "\n",
        "* company_slogan “We revolutionize trading.” \n",
        "\n",
        "* sales \"5000\"\n",
        "\n",
        "* expenses \"2000\"\n",
        "\n",
        "* revenue \"3000\""
      ],
      "metadata": {
        "id": "r94nvoLmIiON"
      }
    },
    {
      "cell_type": "code",
      "source": [
        "#Create the object \"trading_company1\" with it's attributes\n",
        "trading_company1 = Trading('TraCom', 2005, 'Chong Wu', 'We revolutionize trading', 5000, 2000, 3000)"
      ],
      "metadata": {
        "id": "ZukV3vH2ePH8"
      },
      "execution_count": null,
      "outputs": []
    },
    {
      "cell_type": "code",
      "source": [
        "trading_company2 = Trading('Comtrade', 2002, 'Daniel Ross', 'We revolutionize trading.', 3850, 1720, 1838)"
      ],
      "metadata": {
        "id": "AqOG5dFEe55S"
      },
      "execution_count": null,
      "outputs": []
    },
    {
      "cell_type": "markdown",
      "source": [
        "#### Let’s check if the methods work.\n",
        "Update the sales and expenses. The sales went up by 100 and the expenses increased by 50.\n",
        "\n",
        "📌 Use the update_sales_and_expenses method with this information."
      ],
      "metadata": {
        "id": "lFoOC4JpYX0L"
      }
    },
    {
      "cell_type": "code",
      "source": [
        "#Update the sales and expenses\n",
        "trading_company1.update_sales_and_expenses(100, 50)"
      ],
      "metadata": {
        "id": "Cn0c-Nq27HDI",
        "colab": {
          "base_uri": "https://localhost:8080/"
        },
        "outputId": "04d348cc-1f84-483d-c765-70c95cbc43e2"
      },
      "execution_count": null,
      "outputs": [
        {
          "output_type": "stream",
          "name": "stdout",
          "text": [
            "Sales and expenses are updated\n"
          ]
        }
      ]
    },
    {
      "cell_type": "markdown",
      "source": [
        "After updating sale and expense informations, it is time to calculate the company revenue. \n",
        "\n",
        "📌 Use the calculate revenue method."
      ],
      "metadata": {
        "id": "PH28zb2WYrYl"
      }
    },
    {
      "cell_type": "code",
      "source": [
        "#Calculate the revenue\n",
        "trading_company1.calculate_revenue()"
      ],
      "metadata": {
        "id": "E5Yb-de-8AiK",
        "colab": {
          "base_uri": "https://localhost:8080/"
        },
        "outputId": "27bc2f2c-0312-402d-fa47-cbf0be1e682f"
      },
      "execution_count": null,
      "outputs": [
        {
          "output_type": "stream",
          "name": "stdout",
          "text": [
            "The revenue of the company is: 3050\n"
          ]
        }
      ]
    },
    {
      "cell_type": "code",
      "source": [
        "trading_company2.calculate_revenue()"
      ],
      "metadata": {
        "colab": {
          "base_uri": "https://localhost:8080/"
        },
        "id": "Rkp9pUgZfPmO",
        "outputId": "5f45d2c4-18c8-4dec-991a-ae23d406c83c"
      },
      "execution_count": null,
      "outputs": [
        {
          "output_type": "stream",
          "name": "stdout",
          "text": [
            "The revenue of the company is: 2130\n"
          ]
        }
      ]
    },
    {
      "cell_type": "markdown",
      "source": [
        "Finally, let’s check our company’s information."
      ],
      "metadata": {
        "id": "Z8QEH24AI0GA"
      }
    },
    {
      "cell_type": "code",
      "source": [
        "#Call the print_report method for trading_company1\n",
        "trading_company1.print_report()"
      ],
      "metadata": {
        "id": "jdEaNvGV_OD0",
        "colab": {
          "base_uri": "https://localhost:8080/"
        },
        "outputId": "4f3fae70-b939-4ac5-8c49-be67a1d638f8"
      },
      "execution_count": null,
      "outputs": [
        {
          "output_type": "stream",
          "name": "stdout",
          "text": [
            "\n",
            "      The company name is TraCom and was founded in 2005.\n",
            "      Then founder of the company is Chong Wu.\n",
            "      Company slogan: We revolutionize trading\n",
            "      Total sales: 5100\n",
            "      Total expenses: 2050\n",
            "      Total revenue: 3050\n",
            "      \n"
          ]
        }
      ]
    },
    {
      "cell_type": "markdown",
      "source": [
        "**Extras**"
      ],
      "metadata": {
        "id": "Q9WkBI8JfwNb"
      }
    },
    {
      "cell_type": "code",
      "source": [
        "class Sales:\n",
        "  def __init__(self, id):\n",
        "    self.id = id\n",
        "    id = 100\n",
        "\n",
        "val = Sales(123)\n",
        "print(val.id)"
      ],
      "metadata": {
        "colab": {
          "base_uri": "https://localhost:8080/"
        },
        "id": "vltfMg3ofaCO",
        "outputId": "db3ea0fa-2cb4-495d-d1fe-8d8ed6da5c3b"
      },
      "execution_count": null,
      "outputs": [
        {
          "output_type": "stream",
          "name": "stdout",
          "text": [
            "123\n"
          ]
        }
      ]
    },
    {
      "cell_type": "code",
      "source": [
        "from pathlib import PureWindowsPath\n",
        "def printHello():\n",
        "  print(\"Hello\")\n",
        "\n",
        "a = printHello()"
      ],
      "metadata": {
        "colab": {
          "base_uri": "https://localhost:8080/"
        },
        "id": "pNDNCvlQfz2X",
        "outputId": "1392a64f-c89f-4d45-8f34-34ffb1afe488"
      },
      "execution_count": null,
      "outputs": [
        {
          "output_type": "stream",
          "name": "stdout",
          "text": [
            "Hello\n"
          ]
        }
      ]
    }
  ]
}